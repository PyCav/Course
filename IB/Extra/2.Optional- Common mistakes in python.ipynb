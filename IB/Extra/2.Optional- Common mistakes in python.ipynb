{
 "cells": [
  {
   "cell_type": "markdown",
   "metadata": {},
   "source": [
    "# Optional- Common mistakes in python\n",
    "\n",
    "As you start writing mroe advanced programs, there might be times when Python behaves contrary to expectations and it results in your programs not working. This notebook outlines some common mistakes that people often encounter in their programming careers.\n",
    "\n",
    "### Mutable default arguments\n",
    "\n",
    "This was touched upon in lectures, but default arguments with mutable objects are (usually) a bad idea. This is because you can have something like the following example:"
   ]
  },
  {
   "cell_type": "code",
   "execution_count": 2,
   "metadata": {
    "collapsed": false
   },
   "outputs": [
    {
     "name": "stdout",
     "output_type": "stream",
     "text": [
      "list1 is: [3]\n",
      "list 2 is: [3, 3]\n",
      "And list 1 is now: [3, 3]\n"
     ]
    }
   ],
   "source": [
    "def append_3(list_=[]):\n",
    "    list_.append(3)\n",
    "    return list_\n",
    "\n",
    "list1 = append_3()\n",
    "print(\"list1 is:\", list1)\n",
    "list2 = append_3()\n",
    "print(\"list 2 is:\", list2)\n",
    "print(\"And list 1 is now:\", list1)"
   ]
  },
  {
   "cell_type": "markdown",
   "metadata": {},
   "source": [
    "The expected behaviour would probably be the following output:\n",
    "    \n",
    "    list1 is: [3]\n",
    "    list 2 is: [3]\n",
    "    And list 1 is now: [3]\n",
    "    \n",
    "The reason this happens is because the default arguments are evaluated once every time the function is defined, then stored. So if you mutate a default argument, you've mutated it for any future calls to the function. To avoid this, we can do the following:"
   ]
  },
  {
   "cell_type": "code",
   "execution_count": 3,
   "metadata": {
    "collapsed": false
   },
   "outputs": [
    {
     "name": "stdout",
     "output_type": "stream",
     "text": [
      "list1 is: [3]\n",
      "list 2 is: [3]\n",
      "And list 1 is now: [3]\n"
     ]
    }
   ],
   "source": [
    "def append_3(list_=None):\n",
    "    if list_ is None:\n",
    "        list_ = []\n",
    "    list_.append(3)\n",
    "    return list_\n",
    "\n",
    "list1 = append_3()\n",
    "print(\"list1 is:\", list1)\n",
    "list2 = append_3()\n",
    "print(\"list 2 is:\", list2)\n",
    "print(\"And list 1 is now:\", list1)"
   ]
  },
  {
   "cell_type": "markdown",
   "metadata": {},
   "source": [
    "Although the code is clunky, it's what we have to do if we want to use Python.\n",
    "\n",
    "### Late binding closures\n",
    "\n",
    "This will only really be relevant if you've gone through the Optional notebook on Lambda functions, functions as variables, and decorators. Skip to the next point if you haven't gone through the notebook. Imagine we have the following case:"
   ]
  },
  {
   "cell_type": "code",
   "execution_count": 8,
   "metadata": {
    "collapsed": false
   },
   "outputs": [
    {
     "name": "stdout",
     "output_type": "stream",
     "text": [
      "8\n",
      "8\n",
      "8\n",
      "8\n",
      "8\n"
     ]
    }
   ],
   "source": [
    "# Code adapted from http://docs.python-guide.org/en/latest/writing/gotchas/\n",
    "def create_multipliers(n):\n",
    "    return [lambda x : i * x for i in range(0,n)]\n",
    "\n",
    "for multiplier in create_multipliers(5):\n",
    "    print(multiplier(2))"
   ]
  },
  {
   "cell_type": "markdown",
   "metadata": {},
   "source": [
    "That's weird. You porbably expected the following:\n",
    "\n",
    "This happens because any variable in a Python function is late binding, meaning that the variables are only looked up when the function is actually called. Therefore, i is always 5 from the point of view of the functions in the list. (This happens not only with lambda functions but also with normal functions, if we do a similar thing.)\n",
    "\n",
    "To avoid this, we can use the fact that default arguments are evaluated at the point of creation:"
   ]
  },
  {
   "cell_type": "code",
   "execution_count": 9,
   "metadata": {
    "collapsed": false
   },
   "outputs": [
    {
     "name": "stdout",
     "output_type": "stream",
     "text": [
      "0\n",
      "2\n",
      "4\n",
      "6\n",
      "8\n"
     ]
    }
   ],
   "source": [
    "# Code adapted from http://docs.python-guide.org/en/latest/writing/gotchas/\n",
    "def create_multipliers(n):\n",
    "    return [lambda x, i=i : i * x for i in range(0,n)]\n",
    "\n",
    "for multiplier in create_multipliers(5):\n",
    "    print(multiplier(2))"
   ]
  },
  {
   "cell_type": "markdown",
   "metadata": {},
   "source": [
    "Even if you never mean to use the optional argument, do this so that your code works. Two \"wrongs\" do make a \"right\" in this case.\n",
    "\n",
    "### Writing performance critical code in Python\n",
    "\n",
    "Don't.\n",
    "\n",
    "### Truth value of arrays\n",
    "\n",
    "When using default arguments for list-like objects, if you followed the tips above, you'll probably use None. There's a slight problem with that though if we follow a naïve approach, when dealing with numpy arrays: "
   ]
  },
  {
   "cell_type": "code",
   "execution_count": 4,
   "metadata": {
    "collapsed": false
   },
   "outputs": [
    {
     "name": "stdout",
     "output_type": "stream",
     "text": [
      "list1 is: [ 3.  4.]\n"
     ]
    },
    {
     "ename": "ValueError",
     "evalue": "The truth value of an array with more than one element is ambiguous. Use a.any() or a.all()",
     "output_type": "error",
     "traceback": [
      "\u001b[0;31m---------------------------------------------------------------------------\u001b[0m",
      "\u001b[0;31mValueError\u001b[0m                                Traceback (most recent call last)",
      "\u001b[0;32m<ipython-input-4-e02a801a2d39>\u001b[0m in \u001b[0;36m<module>\u001b[0;34m()\u001b[0m\n\u001b[1;32m     11\u001b[0m \u001b[0mlist1\u001b[0m \u001b[0;34m=\u001b[0m \u001b[0mappend_3\u001b[0m\u001b[0;34m(\u001b[0m\u001b[0;34m)\u001b[0m\u001b[0;34m\u001b[0m\u001b[0m\n\u001b[1;32m     12\u001b[0m \u001b[0mprint\u001b[0m\u001b[0;34m(\u001b[0m\u001b[0;34m\"list1 is:\"\u001b[0m\u001b[0;34m,\u001b[0m \u001b[0mlist1\u001b[0m\u001b[0;34m)\u001b[0m\u001b[0;34m\u001b[0m\u001b[0m\n\u001b[0;32m---> 13\u001b[0;31m \u001b[0mlist2\u001b[0m \u001b[0;34m=\u001b[0m \u001b[0mappend_3\u001b[0m\u001b[0;34m(\u001b[0m\u001b[0mlist1\u001b[0m\u001b[0;34m)\u001b[0m\u001b[0;34m\u001b[0m\u001b[0m\n\u001b[0m\u001b[1;32m     14\u001b[0m \u001b[0mprint\u001b[0m\u001b[0;34m(\u001b[0m\u001b[0;34m\"list2 is:\"\u001b[0m\u001b[0;34m,\u001b[0m \u001b[0mlist2\u001b[0m\u001b[0;34m)\u001b[0m\u001b[0;34m\u001b[0m\u001b[0m\n\u001b[1;32m     15\u001b[0m \u001b[0mprint\u001b[0m\u001b[0;34m(\u001b[0m\u001b[0;34m\"And list 1 is now:\"\u001b[0m\u001b[0;34m,\u001b[0m \u001b[0mlist1\u001b[0m\u001b[0;34m)\u001b[0m\u001b[0;34m\u001b[0m\u001b[0m\n",
      "\u001b[0;32m<ipython-input-4-e02a801a2d39>\u001b[0m in \u001b[0;36mappend_3\u001b[0;34m(arr_)\u001b[0m\n\u001b[1;32m      2\u001b[0m \u001b[0;34m\u001b[0m\u001b[0m\n\u001b[1;32m      3\u001b[0m \u001b[0;32mdef\u001b[0m \u001b[0mappend_3\u001b[0m\u001b[0;34m(\u001b[0m\u001b[0marr_\u001b[0m\u001b[0;34m=\u001b[0m\u001b[0;32mNone\u001b[0m\u001b[0;34m)\u001b[0m\u001b[0;34m:\u001b[0m\u001b[0;34m\u001b[0m\u001b[0m\n\u001b[0;32m----> 4\u001b[0;31m     \u001b[0;32mif\u001b[0m \u001b[0marr_\u001b[0m\u001b[0;34m:\u001b[0m\u001b[0;34m\u001b[0m\u001b[0m\n\u001b[0m\u001b[1;32m      5\u001b[0m         \u001b[0marr_\u001b[0m\u001b[0;34m=\u001b[0m\u001b[0mnp\u001b[0m\u001b[0;34m.\u001b[0m\u001b[0mappend\u001b[0m\u001b[0;34m(\u001b[0m\u001b[0marr_\u001b[0m\u001b[0;34m,\u001b[0m\u001b[0;36m3\u001b[0m\u001b[0;34m)\u001b[0m\u001b[0;34m\u001b[0m\u001b[0m\n\u001b[1;32m      6\u001b[0m     \u001b[0;32melse\u001b[0m\u001b[0;34m:\u001b[0m\u001b[0;34m\u001b[0m\u001b[0m\n",
      "\u001b[0;31mValueError\u001b[0m: The truth value of an array with more than one element is ambiguous. Use a.any() or a.all()"
     ]
    }
   ],
   "source": [
    "import numpy as np\n",
    "\n",
    "def append_3(arr_=None):\n",
    "    if arr_:\n",
    "        arr_=np.append(arr_,3)\n",
    "    else:\n",
    "        arr_ = np.array([])\n",
    "        arr_ = np.append(arr_, [3,4])\n",
    "    return arr_\n",
    "\n",
    "list1 = append_3()\n",
    "print(\"list1 is:\", list1)\n",
    "list2 = append_3(list1)\n",
    "print(\"list2 is:\", list2)\n",
    "print(\"And list 1 is now:\", list1)"
   ]
  },
  {
   "cell_type": "markdown",
   "metadata": {
    "collapsed": true
   },
   "source": [
    "This is because NumPy isn't sure if you want to check whether the array as a whole is None or not, or whether some elements of the array are None. To get around this, you can do the following:"
   ]
  },
  {
   "cell_type": "code",
   "execution_count": 5,
   "metadata": {
    "collapsed": false
   },
   "outputs": [
    {
     "name": "stdout",
     "output_type": "stream",
     "text": [
      "list1 is: [ 3.  4.]\n",
      "list2 is: [ 3.  4.  3.]\n",
      "And list 1 is now: [ 3.  4.]\n"
     ]
    }
   ],
   "source": [
    "import numpy as np\n",
    "\n",
    "def append_3(arr_=None):\n",
    "    if arr_ is not None:\n",
    "        arr_=np.append(arr_,3)\n",
    "    else:\n",
    "        arr_ = np.array([])\n",
    "        arr_ = np.append(arr_, [3,4])\n",
    "    return arr_\n",
    "\n",
    "list1 = append_3()\n",
    "print(\"list1 is:\", list1)\n",
    "list2 = append_3(list1)\n",
    "print(\"list2 is:\", list2)\n",
    "print(\"And list 1 is now:\", list1)"
   ]
  },
  {
   "cell_type": "markdown",
   "metadata": {},
   "source": [
    "### Forgetting your self\n",
    "\n",
    "It is easy to write code that spits out errors because you forgot to write selfs when you were accessing object properties in methods.\n",
    "\n",
    "### 0 is False\n",
    "\n",
    "Consider the following code:"
   ]
  },
  {
   "cell_type": "code",
   "execution_count": 7,
   "metadata": {
    "collapsed": false
   },
   "outputs": [
    {
     "name": "stdout",
     "output_type": "stream",
     "text": [
      "What are you doing?\n"
     ]
    }
   ],
   "source": [
    "def add_3(to=None):\n",
    "    if to:\n",
    "        return to+3.\n",
    "    else:\n",
    "        return \"What are you doing?\"\n",
    "    \n",
    "print(add_3(to=0))"
   ]
  },
  {
   "cell_type": "markdown",
   "metadata": {},
   "source": [
    "You may have expected the last line to output 3, instead of the string \"What are you doing?\". This is because although you think you are testing for whether the argument to has been given or not, the if statement is only testing the truth value of the argument, and False, None, and 0 are all false. To avoid this, do the following:"
   ]
  },
  {
   "cell_type": "code",
   "execution_count": 8,
   "metadata": {
    "collapsed": false
   },
   "outputs": [
    {
     "name": "stdout",
     "output_type": "stream",
     "text": [
      "3.0\n"
     ]
    }
   ],
   "source": [
    "def add_3(to=None):\n",
    "    if to is not None:\n",
    "        return to+3.\n",
    "    else:\n",
    "        return \"What are you doing?\"\n",
    "    \n",
    "print(add_3(to=0))"
   ]
  },
  {
   "cell_type": "code",
   "execution_count": null,
   "metadata": {
    "collapsed": true
   },
   "outputs": [],
   "source": []
  }
 ],
 "metadata": {
  "kernelspec": {
   "display_name": "Python 3",
   "language": "python",
   "name": "python3"
  },
  "language_info": {
   "codemirror_mode": {
    "name": "ipython",
    "version": 3
   },
   "file_extension": ".py",
   "mimetype": "text/x-python",
   "name": "python",
   "nbconvert_exporter": "python",
   "pygments_lexer": "ipython3",
   "version": "3.5.1"
  }
 },
 "nbformat": 4,
 "nbformat_minor": 0
}
