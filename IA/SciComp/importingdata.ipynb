{
 "cells": [
  {
   "cell_type": "markdown",
   "metadata": {
    "nbgrader": {
     "grade": false,
     "grade_id": "title",
     "locked": true,
     "solution": false
    }
   },
   "source": [
    "# Importing data and plotting\n",
    "\n",
    "For this exercise we will be looking at data for Prussian cavalry killed by horse kicks, this is found in the aptly named 'HorseKicks.dat' file. The first column holds the year and the subsequent columns hold the number of horse kick deaths for 14 different cavalry corps. This data was made famous by von Bortkiewicz as it follows a Poisson model reasonably well.\n",
    "\n",
    "Data files such as .csv and .dat files can be imported into numpy arrays via the numpy function loadtxt. The usage of this is as follows:\n",
    "    \n",
    "    import numpy as np\n",
    "    \n",
    "    data = np.loadtxt('HorseKicks.dat',dtype = 'int')\n",
    "    \n",
    "This loads the data into a 2-dimensional array, the columns and rows can be accessed by indices and slices. E.g. the first column is given by data[:,0]. We have used dtype here to specify we would like the data to imported as integers rather than floats. "
   ]
  },
  {
   "cell_type": "code",
   "execution_count": 2,
   "metadata": {
    "collapsed": true,
    "nbgrader": {
     "grade": false,
     "grade_id": "init",
     "locked": true,
     "solution": false
    }
   },
   "outputs": [],
   "source": [
    "import numpy as np\n",
    "import matplotlib.pyplot as plt\n",
    "%matplotlib inline"
   ]
  },
  {
   "cell_type": "markdown",
   "metadata": {
    "nbgrader": {
     "grade": false,
     "grade_id": "its_your_boiiii",
     "locked": true,
     "solution": false
    }
   },
   "source": [
    "### Poisson Distribution\n",
    "\n",
    "The Poisson distribution is defined by its mean, $\\lambda$. This can be found from our imported data using a standard arithmetic mean:\n",
    "\n",
    "$$ \\bar{x} = \\frac{1}{N} \\sum_{i} x_i $$\n",
    "\n",
    "Then the probability of $k$ events within the interval is given by:\n",
    "\n",
    "$$ P(k) = \\frac{\\lambda^k e^{-\\lambda}}{k!} $$\n",
    "\n",
    "##### Write a function named factorial to calculate $k!$ including a special case for $0!$:"
   ]
  },
  {
   "cell_type": "code",
   "execution_count": 3,
   "metadata": {
    "collapsed": false,
    "nbgrader": {
     "grade": false,
     "grade_id": "1",
     "locked": false,
     "solution": true
    }
   },
   "outputs": [],
   "source": [
    "def factorial(x):\n",
    "    if int(x) == 0:\n",
    "        return 1\n",
    "    elif int(x) < 0:\n",
    "        print('incorrect input')\n",
    "    else:\n",
    "        result = int(x)\n",
    "        for i in range(1,int(x)-1):\n",
    "            result *= int(x)-i\n",
    "        return result   "
   ]
  },
  {
   "cell_type": "code",
   "execution_count": 4,
   "metadata": {
    "collapsed": false,
    "nbgrader": {
     "grade": true,
     "grade_id": "fact_test",
     "locked": true,
     "points": 2,
     "solution": false
    }
   },
   "outputs": [],
   "source": [
    "assert factorial(0) == 1\n",
    "from random import randint\n",
    "from scipy.misc import factorial as fact\n",
    "rand = randint(1,9)\n",
    "assert factorial(rand) == fact(rand)"
   ]
  },
  {
   "cell_type": "markdown",
   "metadata": {
    "nbgrader": {
     "grade": false,
     "grade_id": "qwertyuiop",
     "locked": true,
     "solution": false
    }
   },
   "source": [
    "### Main Exercise\n",
    "Below write some code to import the data and calculate the mean and store the value in a variable named mean"
   ]
  },
  {
   "cell_type": "code",
   "execution_count": 5,
   "metadata": {
    "collapsed": false,
    "nbgrader": {
     "grade": false,
     "grade_id": "import_data",
     "locked": false,
     "solution": true
    }
   },
   "outputs": [],
   "source": [
    "data = np.loadtxt('HorseKicks.dat',dtype = 'int')\n",
    "year = data[:,0]\n",
    "\n",
    "kick_data = data[:,1:]\n",
    "mean = np.sum(kick_data)/kick_data.ravel().shape[0]"
   ]
  },
  {
   "cell_type": "code",
   "execution_count": 6,
   "metadata": {
    "collapsed": true,
    "nbgrader": {
     "grade": true,
     "grade_id": "check_mean",
     "locked": true,
     "solution": false
    }
   },
   "outputs": [],
   "source": [
    "assert mean == 0.7"
   ]
  },
  {
   "cell_type": "markdown",
   "metadata": {
    "nbgrader": {
     "grade": false,
     "grade_id": "plot_give",
     "locked": true,
     "solution": false
    }
   },
   "source": [
    "### Plotting\n",
    "Now write code below to plot the probability of $n$ officers being kicked to death against $n$ from the data and from the Poisson distribution "
   ]
  },
  {
   "cell_type": "code",
   "execution_count": 7,
   "metadata": {
    "collapsed": false,
    "nbgrader": {
     "grade": true,
     "grade_id": "plot_ans",
     "locked": false,
     "solution": true
    }
   },
   "outputs": [
    {
     "data": {
      "image/png": "[encoded data removed]",
      "text/plain": [
       "<matplotlib.figure.Figure at 0x7fe807ca2f28>"
      ]
     },
     "metadata": {},
     "output_type": "display_data"
    }
   ],
   "source": [
    "x = np.array((0.,1.,2.,3.,4.))\n",
    "count_data = np.bincount(kick_data.ravel())/kick_data.ravel().shape[0]\n",
    "\n",
    "plt.plot(x,count_data,'bo')\n",
    "\n",
    "P = [mean**y*np.exp(-mean)/factorial(y) for y in x]\n",
    "\n",
    "plt.plot(x,P,'ro')\n",
    "\n",
    "plt.show()"
   ]
  },
  {
   "cell_type": "code",
   "execution_count": null,
   "metadata": {
    "collapsed": true
   },
   "outputs": [],
   "source": []
  }
 ],
 "metadata": {
  "celltoolbar": "Create Assignment",
  "kernelspec": {
   "display_name": "Python 3",
   "language": "python",
   "name": "python3"
  },
  "language_info": {
   "codemirror_mode": {
    "name": "ipython",
    "version": 3
   },
   "file_extension": ".py",
   "mimetype": "text/x-python",
   "name": "python",
   "nbconvert_exporter": "python",
   "pygments_lexer": "ipython3",
   "version": "3.5.2"
  }
 },
 "nbformat": 4,
 "nbformat_minor": 0
}

