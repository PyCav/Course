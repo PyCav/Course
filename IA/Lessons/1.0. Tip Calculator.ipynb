{
 "cells": [
  {
   "cell_type": "code",
   "execution_count": 1,
   "metadata": {
    "collapsed": false
   },
   "outputs": [],
   "source": [
    "# Declare dictionary of item: price to menu variable\n",
    "# The item is a string and the price is a float\n",
    "menu = {\"Surströmming\":10.00,\n",
    "        \"Hongeohoe\":75.00,\n",
    "        \"Kusaya\":4.00,\n",
    "        \"Shiokara\":5.00,\n",
    "        \"Rakfish\":15.00,\n",
    "        \"Fesikh\":20.00}\n",
    "# Declare a dictionary of name:price they have to pay to bill variable\n",
    "# The name is a string and the price they have to pay is a float\n",
    "bill = {\"Aidan\":menu[\"Rakfish\"],\n",
    "         \"Sam\":menu[\"Fesikh\"],\n",
    "         \"Taketomo\":menu[\"Kusaya\"] + menu[\"Shiokara\"],\n",
    "         \"Jordan\":menu[\"Hongeohoe\"],\n",
    "         \"Niall\":menu[\"Surströmming\"]}\n",
    "# Declare a tip percentage and the day of the week\n",
    "# The tip percentage is a float and the day of the week is a string\n",
    "tip_percentage = 10.0\n",
    "day_of_week = \"Thursday\""
   ]
  },
  {
   "cell_type": "code",
   "execution_count": 2,
   "metadata": {
    "collapsed": false
   },
   "outputs": [
    {
     "name": "stdout",
     "output_type": "stream",
     "text": [
      "Jordan: 75.0 + 7.5 = 82.5\n",
      "Taketomo: 9.0 + 0.9 = 9.9\n",
      "Sam: 20.0 + 2.0 = 22.0\n",
      "Aidan: 15.0 + 1.5 = 16.5\n",
      "Niall: 10.0 + 1.0 = 11.0\n",
      "Total: 141.9\n"
     ]
    }
   ],
   "source": [
    "# Declare a variable, total for everyone, which starts of as zero, and is added to later on in the loops below\n",
    "total_for_everyone = 0.\n",
    "# If it's not Friday and there's more than 5 people dining, you should pay a tip, so we calculate tips.\n",
    "if day_of_week != \"Friday\" and len(bill) >= 5:\n",
    "    # Loop to go over all the elements in the bill\n",
    "    for person,price in bill.items():\n",
    "        # Calculate the tip that the person should pay\n",
    "        tip = price * tip_percentage/100\n",
    "        # Calculate the total amount that person should pay\n",
    "        total = tip + price\n",
    "        # Add that amount onto the total bill for everyone\n",
    "        total_for_everyone += total\n",
    "        # Print the results out. Take note that we are converting price, tip, and total into strings\n",
    "        print(person + \": \"+ str(price) + \" + \" + str(tip) + \" = \" + str(total))\n",
    "else:\n",
    "    print(\"No tip neccesary!\")\n",
    "    # Loop to go over all the elements in the bill\n",
    "    for person,price in bill.items():\n",
    "        # Add the price onto the total bill for everyone\n",
    "        total_for_everyone += price\n",
    "        # Print the price for each person out. Take note we are converting the price into a string\n",
    "        print(person + \": \"+ str(price))\n",
    "\n",
    "# Print the total amount that the group should pay\n",
    "print(\"Total: \" + str(total_for_everyone))"
   ]
  },
  {
   "cell_type": "code",
   "execution_count": null,
   "metadata": {
    "collapsed": true
   },
   "outputs": [],
   "source": []
  }
 ],
 "metadata": {
  "kernelspec": {
   "display_name": "Python 3",
   "language": "python",
   "name": "python3"
  },
  "language_info": {
   "codemirror_mode": {
    "name": "ipython",
    "version": 3
   },
   "file_extension": ".py",
   "mimetype": "text/x-python",
   "name": "python",
   "nbconvert_exporter": "python",
   "pygments_lexer": "ipython3",
   "version": "3.5.1"
  }
 },
 "nbformat": 4,
 "nbformat_minor": 0
}
