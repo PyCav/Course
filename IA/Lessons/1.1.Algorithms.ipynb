{
 "cells": [
  {
   "cell_type": "markdown",
   "metadata": {},
   "source": [
    "### 1. Fibonacci's Tea\n",
    "\n",
    "There are two steps to writing a program: converting your problem into a step-by-step algorithm that your computer can digest, and then implementing this in your favourite programming language (**python**). Once you've set up your problem as an algorithm, you've written a program. The rest is syntax.\n",
    "\n",
    "As an example, how would you tell a robot to make tea?\n",
    "\n",
    "<img src=\"tea.jpg\" style=\"width:500px\">\n",
    "\n",
    "This example depends strongly on your tea-making philosophy. Do you add milk? Before or after the hot water?\n",
    "\n",
    "<img src=\"crocmug.jpg\" style=\"width:200px\">\n",
    "\n",
    "Going back to TipCalculator, the algorithm we've used is as follows\n",
    "\n",
    "<img src=\"tip.jpg\" style=\"width:500px\">\n",
    "\n",
    "Odds are, as a scientist, you won't be programming many futuristic household appliances or rehashing old apps. What about finding the factorial of a positive integer?\n",
    "\n",
    "<img src=\"factorial.jpg\" style=\"width:500px\">\n",
    " \n",
    "As an exercise, write an algorithm to generate the Fibonacci sequence."
   ]
  },
  {
   "cell_type": "code",
   "execution_count": null,
   "metadata": {
    "collapsed": true
   },
   "outputs": [],
   "source": []
  },
  {
   "cell_type": "code",
   "execution_count": null,
   "metadata": {
    "collapsed": true
   },
   "outputs": [],
   "source": []
  }
 ],
 "metadata": {
  "anaconda-cloud": {},
  "kernelspec": {
   "display_name": "Python 3",
   "language": "python",
   "name": "python3"
  },
  "language_info": {
   "codemirror_mode": {
    "name": "ipython",
    "version": 3
   },
   "file_extension": ".py",
   "mimetype": "text/x-python",
   "name": "python",
   "nbconvert_exporter": "python",
   "pygments_lexer": "ipython3",
   "version": "3.5.1"
  }
 },
 "nbformat": 4,
 "nbformat_minor": 0
}
